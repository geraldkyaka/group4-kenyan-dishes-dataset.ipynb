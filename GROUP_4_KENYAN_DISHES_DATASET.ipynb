{
  "nbformat": 4,
  "nbformat_minor": 0,
  "metadata": {
    "colab": {
      "provenance": [],
      "toc_visible": true,
      "authorship_tag": "ABX9TyN/PkiSj6bcgS1RgvzEwg3A",
      "include_colab_link": true
    },
    "kernelspec": {
      "name": "python3",
      "display_name": "Python 3"
    },
    "language_info": {
      "name": "python"
    }
  },
  "cells": [
    {
      "cell_type": "markdown",
      "metadata": {
        "id": "view-in-github",
        "colab_type": "text"
      },
      "source": [
        "<a href=\"https://colab.research.google.com/github/geraldkyaka/group4-kenyan-dishes-dataset.ipynb/blob/main/GROUP_4_KENYAN_DISHES_DATASET.ipynb\" target=\"_parent\"><img src=\"https://colab.research.google.com/assets/colab-badge.svg\" alt=\"Open In Colab\"/></a>"
      ]
    },
    {
      "cell_type": "code",
      "execution_count": null,
      "metadata": {
        "id": "ytD_zeH_1dqF"
      },
      "outputs": [],
      "source": [
        "#"
      ]
    },
    {
      "cell_type": "markdown",
      "source": [],
      "metadata": {
        "id": "6LBTvE-51fBW"
      }
    },
    {
      "cell_type": "markdown",
      "source": [
        " # group 4 : kenyan dishes\n",
        " task : demonstrate using data types\n",
        " variables of diffrent data types\n",
        "  \n",
        " dish_name = 'ugali' #str\n",
        " plate_cost = 100 #int\n",
        " rating = 4.2 #float\n",
        " is_vegetarian = True #bool"
      ],
      "metadata": {
        "id": "wkT4_u8R2wjf"
      }
    },
    {
      "cell_type": "code",
      "source": [
        "dish_name = 'ugali'  # str\n",
        "plate_cost = 100     #int\n",
        "rating = 4.2         #float\n",
        "is_vegetarian = True #bool"
      ],
      "metadata": {
        "id": "lkb-q0uQ66_n"
      },
      "execution_count": null,
      "outputs": []
    },
    {
      "cell_type": "markdown",
      "source": [
        "task : Create and manipulate a list"
      ],
      "metadata": {
        "id": "ZfEerunf7vhj"
      }
    },
    {
      "cell_type": "code",
      "source": [
        "kenyan_dishes = ['ugali','fish','chapati','githeri','rice','pilau']\n",
        "kenyan_dishes"
      ],
      "metadata": {
        "colab": {
          "base_uri": "https://localhost:8080/"
        },
        "id": "4YCSw1FY79GB",
        "outputId": "2df98709-842a-4e87-baa6-1d5df18f72a0"
      },
      "execution_count": null,
      "outputs": [
        {
          "output_type": "execute_result",
          "data": {
            "text/plain": [
              "['ugali', 'fish', 'chapati', 'githeri', 'rice', 'pilau']"
            ]
          },
          "metadata": {},
          "execution_count": 2
        }
      ]
    },
    {
      "cell_type": "code",
      "source": [
        "kenyan_dishes.append('sukuma')\n",
        "kenyan_dishes"
      ],
      "metadata": {
        "colab": {
          "base_uri": "https://localhost:8080/"
        },
        "id": "Hw4_Itul8dEO",
        "outputId": "bcf54a1a-184a-4ac6-ca2f-57f925ccc8ee"
      },
      "execution_count": null,
      "outputs": [
        {
          "output_type": "execute_result",
          "data": {
            "text/plain": [
              "['ugali', 'fish', 'chapati', 'githeri', 'rice', 'pilau', 'sukuma']"
            ]
          },
          "metadata": {},
          "execution_count": 3
        }
      ]
    },
    {
      "cell_type": "code",
      "source": [
        "kenyan_dishes.remove('githeri')\n",
        "kenyan_dishes"
      ],
      "metadata": {
        "colab": {
          "base_uri": "https://localhost:8080/"
        },
        "id": "8za3yjSf8nMw",
        "outputId": "b28143a8-45f5-42e6-94fe-1301cc1ef9f3"
      },
      "execution_count": null,
      "outputs": [
        {
          "output_type": "execute_result",
          "data": {
            "text/plain": [
              "['ugali', 'fish', 'chapati', 'rice', 'pilau', 'sukuma']"
            ]
          },
          "metadata": {},
          "execution_count": 4
        }
      ]
    },
    {
      "cell_type": "code",
      "source": [
        "kenyan_dishes.insert(3,'pizza')\n",
        "kenyan_dishes"
      ],
      "metadata": {
        "colab": {
          "base_uri": "https://localhost:8080/"
        },
        "id": "EI_UqE-W8v_A",
        "outputId": "c776301f-19e4-486b-bda3-1bfba6dac791"
      },
      "execution_count": null,
      "outputs": [
        {
          "output_type": "execute_result",
          "data": {
            "text/plain": [
              "['ugali', 'fish', 'chapati', 'pizza', 'rice', 'pilau', 'sukuma']"
            ]
          },
          "metadata": {},
          "execution_count": 9
        }
      ]
    },
    {
      "cell_type": "markdown",
      "source": [
        "# creating tuples\n"
      ],
      "metadata": {
        "id": "dFvHB1gJ9m_N"
      }
    },
    {
      "cell_type": "code",
      "source": [
        "dish_tuple = ('chapati',20,)\n",
        "dish_tuple"
      ],
      "metadata": {
        "colab": {
          "base_uri": "https://localhost:8080/"
        },
        "id": "_vFQSnFV91hS",
        "outputId": "d1b3249a-c738-4bd1-a6f2-b1092c265742"
      },
      "execution_count": null,
      "outputs": [
        {
          "output_type": "execute_result",
          "data": {
            "text/plain": [
              "('chapati', 20, 4.5)"
            ]
          },
          "metadata": {},
          "execution_count": 17
        }
      ]
    },
    {
      "cell_type": "code",
      "source": [
        "from types import prepare_class\n",
        "# access elements\n",
        "print('dish_name:',dish_tuple[0])\n",
        "print('dish_cost:',dish_tuple[1])"
      ],
      "metadata": {
        "colab": {
          "base_uri": "https://localhost:8080/"
        },
        "id": "Di51dV9n_IY9",
        "outputId": "e2860190-8412-4fb4-c951-f8d578e17998"
      },
      "execution_count": null,
      "outputs": [
        {
          "output_type": "stream",
          "name": "stdout",
          "text": [
            "dish_name: chapati\n",
            "dish_cost: 20\n"
          ]
        }
      ]
    },
    {
      "cell_type": "markdown",
      "source": [
        "# Create and use a set\n"
      ],
      "metadata": {
        "id": "XC9uDY1hBeyI"
      }
    },
    {
      "cell_type": "code",
      "source": [
        "menu = {'ugali','chapati','pilau','fish'}\n",
        "menu.add('sukuma')\n",
        "menu"
      ],
      "metadata": {
        "colab": {
          "base_uri": "https://localhost:8080/"
        },
        "id": "jQlDzGYQA49q",
        "outputId": "4f26c7c4-00bc-4ed1-e043-540b1c8b04a6"
      },
      "execution_count": null,
      "outputs": [
        {
          "output_type": "execute_result",
          "data": {
            "text/plain": [
              "{'chapati', 'fish', 'pilau', 'sukuma', 'ugali'}"
            ]
          },
          "metadata": {},
          "execution_count": 23
        }
      ]
    },
    {
      "cell_type": "code",
      "source": [
        "menu.discard('chapati')\n",
        "menu"
      ],
      "metadata": {
        "colab": {
          "base_uri": "https://localhost:8080/"
        },
        "id": "7x1bVYg3CmlS",
        "outputId": "2629afe4-d58a-42a7-af9c-a53cfc51139c"
      },
      "execution_count": null,
      "outputs": [
        {
          "output_type": "execute_result",
          "data": {
            "text/plain": [
              "{'fish', 'pilau', 'sukuma', 'ugali'}"
            ]
          },
          "metadata": {},
          "execution_count": 24
        }
      ]
    },
    {
      "cell_type": "markdown",
      "source": [
        "#Create and manipulate a dictionary\n"
      ],
      "metadata": {
        "id": "73v4g4kbDZ37"
      }
    },
    {
      "cell_type": "code",
      "source": [
        "foods = ['rice','beef','potatoes','pilau','matoke','chapati']\n",
        "drinks = ['beer','wine','sodas','juice','water','porridge']\n",
        "inventory_list = [foods,drinks]\n",
        "inventory_list"
      ],
      "metadata": {
        "colab": {
          "base_uri": "https://localhost:8080/"
        },
        "id": "2WMOOdM8DfEK",
        "outputId": "09223941-4ff8-4985-d35a-879387f608d7"
      },
      "execution_count": null,
      "outputs": [
        {
          "output_type": "execute_result",
          "data": {
            "text/plain": [
              "[['rice', 'beef', 'potatoes', 'pilau', 'matoke', 'chapati'],\n",
              " ['beer', 'wine', 'sodas', 'juice', 'water', 'porridge']]"
            ]
          },
          "metadata": {},
          "execution_count": 25
        }
      ]
    },
    {
      "cell_type": "code",
      "source": [
        "inventory_dict = {'foods':foods,'drinks':drinks}\n",
        "inventory_dict"
      ],
      "metadata": {
        "colab": {
          "base_uri": "https://localhost:8080/"
        },
        "id": "ttvVDre7FNG0",
        "outputId": "051eb3cf-5342-44f5-9d64-f66dd81a88f0"
      },
      "execution_count": null,
      "outputs": [
        {
          "output_type": "execute_result",
          "data": {
            "text/plain": [
              "{'foods': ['rice', 'beef', 'potatoes', 'pilau', 'matoke', 'chapati'],\n",
              " 'drinks': ['beer', 'wine', 'sodas', 'juice', 'water', 'porridge']}"
            ]
          },
          "metadata": {},
          "execution_count": 26
        }
      ]
    },
    {
      "cell_type": "code",
      "source": [
        "inventory_dict['foods'].append('chicken')\n",
        "inventory_dict"
      ],
      "metadata": {
        "colab": {
          "base_uri": "https://localhost:8080/"
        },
        "id": "irlc9K-qF1f9",
        "outputId": "1bba6bc9-9d3d-469e-91ba-13ef5e4894c1"
      },
      "execution_count": null,
      "outputs": [
        {
          "output_type": "execute_result",
          "data": {
            "text/plain": [
              "{'foods': ['rice',\n",
              "  'beef',\n",
              "  'potatoes',\n",
              "  'pilau',\n",
              "  'matoke',\n",
              "  'chapati',\n",
              "  'chicken',\n",
              "  'chicken',\n",
              "  'chicken'],\n",
              " 'drinks': ['beer', 'wine', 'sodas', 'juice', 'water', 'porridge']}"
            ]
          },
          "metadata": {},
          "execution_count": 29
        }
      ]
    },
    {
      "cell_type": "code",
      "source": [
        "inventory_dict['foods'].remove('chicken')\n",
        "inventory_dict"
      ],
      "metadata": {
        "colab": {
          "base_uri": "https://localhost:8080/"
        },
        "id": "NmJHNi5tGzFB",
        "outputId": "a22636d3-82d4-4751-c5f6-249aec87cdfc"
      },
      "execution_count": null,
      "outputs": [
        {
          "output_type": "execute_result",
          "data": {
            "text/plain": [
              "{'foods': ['rice',\n",
              "  'beef',\n",
              "  'potatoes',\n",
              "  'pilau',\n",
              "  'matoke',\n",
              "  'chapati',\n",
              "  'chicken'],\n",
              " 'drinks': ['beer', 'wine', 'sodas', 'juice', 'water', 'porridge']}"
            ]
          },
          "metadata": {},
          "execution_count": 32
        }
      ]
    },
    {
      "cell_type": "code",
      "source": [
        "del inventory_dict['drinks']\n",
        "inventory_dict"
      ],
      "metadata": {
        "colab": {
          "base_uri": "https://localhost:8080/"
        },
        "id": "gt9qr-QFHOy3",
        "outputId": "489d5e13-f34a-4a18-8d8c-164638495d09"
      },
      "execution_count": null,
      "outputs": [
        {
          "output_type": "execute_result",
          "data": {
            "text/plain": [
              "{'foods': ['rice',\n",
              "  'beef',\n",
              "  'potatoes',\n",
              "  'pilau',\n",
              "  'matoke',\n",
              "  'chapati',\n",
              "  'chicken']}"
            ]
          },
          "metadata": {},
          "execution_count": 33
        }
      ]
    }
  ]
}