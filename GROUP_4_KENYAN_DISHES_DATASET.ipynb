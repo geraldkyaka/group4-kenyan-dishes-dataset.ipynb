{
  "nbformat": 4,
  "nbformat_minor": 0,
  "metadata": {
    "colab": {
      "provenance": [],
      "include_colab_link": true
    },
    "kernelspec": {
      "name": "python3",
      "display_name": "Python 3"
    },
    "language_info": {
      "name": "python"
    }
  },
  "cells": [
    {
      "cell_type": "markdown",
      "metadata": {
        "id": "view-in-github",
        "colab_type": "text"
      },
      "source": [
        "<a href=\"https://colab.research.google.com/github/geraldkyaka/group4-kenyan-dishes-dataset.ipynb/blob/main/GROUP_4_KENYAN_DISHES_DATASET.ipynb\" target=\"_parent\"><img src=\"https://colab.research.google.com/assets/colab-badge.svg\" alt=\"Open In Colab\"/></a>"
      ]
    },
    {
      "cell_type": "code",
      "execution_count": null,
      "metadata": {
        "id": "ytD_zeH_1dqF"
      },
      "outputs": [],
      "source": []
    },
    {
      "cell_type": "markdown",
      "source": [],
      "metadata": {
        "id": "6LBTvE-51fBW"
      }
    },
    {
      "cell_type": "markdown",
      "source": [
        " # group 4 : kenyan dishes\n",
        " task : demonstrate using data types\n",
        " variables of diffrent data types\n",
        "  \n",
        " dish_name = 'ugali' #str\n",
        " plate_cost = 100 #int\n",
        " rating = 4.2 #float\n",
        " is_vegetarian = True #bool"
      ],
      "metadata": {
        "id": "wkT4_u8R2wjf"
      }
    },
    {
      "cell_type": "code",
      "source": [
        "dish_name = 'ugali'  # str\n",
        "plate_cost = 100     #int\n",
        "rating = 4.2         #float\n",
        "is_vegetarian = True #bool"
      ],
      "metadata": {
        "id": "lkb-q0uQ66_n"
      },
      "execution_count": null,
      "outputs": []
    },
    {
      "cell_type": "markdown",
      "source": [
        "task : Create and manipulate a list"
      ],
      "metadata": {
        "id": "ZfEerunf7vhj"
      }
    },
    {
      "cell_type": "code",
      "source": [
        "kenyan_dishes = ['ugali','fish','chapati','githeri','rice','pilau']\n",
        "kenyan_dishes"
      ],
      "metadata": {
        "colab": {
          "base_uri": "https://localhost:8080/"
        },
        "id": "4YCSw1FY79GB",
        "outputId": "9b48ab80-2b13-408b-bb15-28e3072a78b4",
        "collapsed": true
      },
      "execution_count": null,
      "outputs": [
        {
          "output_type": "execute_result",
          "data": {
            "text/plain": [
              "['ugali', 'fish', 'chapati', 'githeri', 'rice', 'pilau']"
            ]
          },
          "metadata": {},
          "execution_count": 1
        }
      ]
    },
    {
      "cell_type": "code",
      "source": [
        "kenyan_dishes.append('sukuma')\n",
        "kenyan_dishes"
      ],
      "metadata": {
        "colab": {
          "base_uri": "https://localhost:8080/"
        },
        "id": "Hw4_Itul8dEO",
        "outputId": "7a5e5183-bf09-47d0-e25c-da7e28aa8362"
      },
      "execution_count": null,
      "outputs": [
        {
          "output_type": "execute_result",
          "data": {
            "text/plain": [
              "['ugali', 'fish', 'chapati', 'githeri', 'rice', 'pilau', 'sukuma']"
            ]
          },
          "metadata": {},
          "execution_count": 15
        }
      ]
    },
    {
      "cell_type": "code",
      "source": [
        "kenyan_dishes.remove('githeri')\n",
        "kenyan_dishes"
      ],
      "metadata": {
        "colab": {
          "base_uri": "https://localhost:8080/"
        },
        "id": "8za3yjSf8nMw",
        "outputId": "abada900-9db2-4b53-f475-ee04bdade79a"
      },
      "execution_count": null,
      "outputs": [
        {
          "output_type": "execute_result",
          "data": {
            "text/plain": [
              "['ugali', 'fish', 'chapati', 'rice', 'pilau', 'sukuma']"
            ]
          },
          "metadata": {},
          "execution_count": 16
        }
      ]
    },
    {
      "cell_type": "code",
      "source": [
        "kenyan_dishes.insert(3,'pizza')\n",
        "kenyan_dishes"
      ],
      "metadata": {
        "colab": {
          "base_uri": "https://localhost:8080/"
        },
        "id": "EI_UqE-W8v_A",
        "outputId": "cb57db81-9086-449d-8b0b-cc20d33b001d"
      },
      "execution_count": null,
      "outputs": [
        {
          "output_type": "execute_result",
          "data": {
            "text/plain": [
              "['ugali', 'fish', 'chapati', 'pizza', 'rice', 'pilau', 'sukuma']"
            ]
          },
          "metadata": {},
          "execution_count": 17
        }
      ]
    },
    {
      "cell_type": "markdown",
      "source": [
        "# creating tuples\n"
      ],
      "metadata": {
        "id": "dFvHB1gJ9m_N"
      }
    },
    {
      "cell_type": "code",
      "source": [
        "dish_tuple = ('chapati',20,)\n",
        "dish_tuple"
      ],
      "metadata": {
        "colab": {
          "base_uri": "https://localhost:8080/"
        },
        "id": "_vFQSnFV91hS",
        "outputId": "ee92ed44-f8eb-455e-bec6-7176a2cfb801"
      },
      "execution_count": null,
      "outputs": [
        {
          "output_type": "execute_result",
          "data": {
            "text/plain": [
              "('chapati', 20)"
            ]
          },
          "metadata": {},
          "execution_count": 1
        }
      ]
    },
    {
      "cell_type": "code",
      "source": [
        "from types import prepare_class\n",
        "# access elements\n",
        "print('dish_name:',dish_tuple[0])\n",
        "print('dish_cost:',dish_tuple[1])"
      ],
      "metadata": {
        "colab": {
          "base_uri": "https://localhost:8080/"
        },
        "id": "Di51dV9n_IY9",
        "outputId": "e2860190-8412-4fb4-c951-f8d578e17998"
      },
      "execution_count": null,
      "outputs": [
        {
          "output_type": "stream",
          "name": "stdout",
          "text": [
            "dish_name: chapati\n",
            "dish_cost: 20\n"
          ]
        }
      ]
    },
    {
      "cell_type": "markdown",
      "source": [
        "# Create and use a set\n"
      ],
      "metadata": {
        "id": "XC9uDY1hBeyI"
      }
    },
    {
      "cell_type": "code",
      "source": [
        "menu = {'ugali','chapati','pilau','fish'}\n",
        "menu.add('sukuma')\n",
        "menu"
      ],
      "metadata": {
        "colab": {
          "base_uri": "https://localhost:8080/"
        },
        "id": "jQlDzGYQA49q",
        "outputId": "5c80983d-4513-47bc-f835-6237d34f6bca"
      },
      "execution_count": null,
      "outputs": [
        {
          "output_type": "execute_result",
          "data": {
            "text/plain": [
              "{'chapati', 'fish', 'pilau', 'sukuma', 'ugali'}"
            ]
          },
          "metadata": {},
          "execution_count": 21
        }
      ]
    },
    {
      "cell_type": "code",
      "source": [
        "menu.discard('chapati')\n",
        "menu"
      ],
      "metadata": {
        "colab": {
          "base_uri": "https://localhost:8080/"
        },
        "id": "7x1bVYg3CmlS",
        "outputId": "5b0e6956-2396-4cc8-9ff0-402fc8460187"
      },
      "execution_count": null,
      "outputs": [
        {
          "output_type": "execute_result",
          "data": {
            "text/plain": [
              "{'fish', 'pilau', 'sukuma', 'ugali'}"
            ]
          },
          "metadata": {},
          "execution_count": 22
        }
      ]
    },
    {
      "cell_type": "markdown",
      "source": [
        "#Create and manipulate a dictionary\n"
      ],
      "metadata": {
        "id": "73v4g4kbDZ37"
      }
    },
    {
      "cell_type": "code",
      "source": [
        "# creating several lists\n",
        "foods = ['rice','beef','potatoes','pilau','matoke','chapati']\n",
        "drinks = ['beer','wine','sodas','juice','water','porridge']\n",
        "inventory_list = [foods,drinks]\n",
        "inventory_list"
      ],
      "metadata": {
        "colab": {
          "base_uri": "https://localhost:8080/"
        },
        "id": "2WMOOdM8DfEK",
        "outputId": "c346fc5f-b47d-4d04-a442-5d2e8e0d6629"
      },
      "execution_count": null,
      "outputs": [
        {
          "output_type": "execute_result",
          "data": {
            "text/plain": [
              "[['rice', 'beef', 'potatoes', 'pilau', 'matoke', 'chapati'],\n",
              " ['beer', 'wine', 'sodas', 'juice', 'water', 'porridge']]"
            ]
          },
          "metadata": {},
          "execution_count": 7
        }
      ]
    },
    {
      "cell_type": "code",
      "source": [
        "inventory_dict = {'foods':foods,'drinks':drinks}\n",
        "inventory_dict"
      ],
      "metadata": {
        "colab": {
          "base_uri": "https://localhost:8080/"
        },
        "id": "ttvVDre7FNG0",
        "outputId": "1a0bd042-fcd6-4338-fae7-012d7b42a8fe"
      },
      "execution_count": null,
      "outputs": [
        {
          "output_type": "execute_result",
          "data": {
            "text/plain": [
              "{'foods': ['rice',\n",
              "  'beef',\n",
              "  'potatoes',\n",
              "  'pilau',\n",
              "  'matoke',\n",
              "  'chapati',\n",
              "  'chicken'],\n",
              " 'drinks': ['beer', 'wine', 'sodas', 'juice', 'water', 'porridge']}"
            ]
          },
          "metadata": {},
          "execution_count": 23
        }
      ]
    },
    {
      "cell_type": "code",
      "source": [
        "inventory_dict['foods'].append('chicken')\n",
        "inventory_dict"
      ],
      "metadata": {
        "colab": {
          "base_uri": "https://localhost:8080/"
        },
        "id": "irlc9K-qF1f9",
        "outputId": "1522e887-f9ff-4c79-a4a8-3a5270114f42"
      },
      "execution_count": null,
      "outputs": [
        {
          "output_type": "execute_result",
          "data": {
            "text/plain": [
              "{'foods': ['rice',\n",
              "  'beef',\n",
              "  'potatoes',\n",
              "  'pilau',\n",
              "  'matoke',\n",
              "  'chapati',\n",
              "  'chicken'],\n",
              " 'drinks': ['beer', 'wine', 'sodas', 'juice', 'water', 'porridge']}"
            ]
          },
          "metadata": {},
          "execution_count": 9
        }
      ]
    },
    {
      "cell_type": "code",
      "source": [
        "inventory_dict['foods'].remove('chicken')\n",
        "inventory_dict"
      ],
      "metadata": {
        "colab": {
          "base_uri": "https://localhost:8080/"
        },
        "id": "NmJHNi5tGzFB",
        "outputId": "6590925f-6d1c-45e3-f95b-4eaec5f1662f"
      },
      "execution_count": null,
      "outputs": [
        {
          "output_type": "execute_result",
          "data": {
            "text/plain": [
              "{'foods': ['rice', 'beef', 'potatoes', 'pilau', 'matoke', 'chapati'],\n",
              " 'drinks': ['beer', 'wine', 'sodas', 'juice', 'water', 'porridge']}"
            ]
          },
          "metadata": {},
          "execution_count": 24
        }
      ]
    },
    {
      "cell_type": "code",
      "source": [
        "del inventory_dict['drinks']\n",
        "inventory_dict"
      ],
      "metadata": {
        "colab": {
          "base_uri": "https://localhost:8080/"
        },
        "id": "gt9qr-QFHOy3",
        "outputId": "8f71abef-9aef-42aa-d610-7d977607bdd3"
      },
      "execution_count": null,
      "outputs": [
        {
          "output_type": "execute_result",
          "data": {
            "text/plain": [
              "{'foods': ['rice', 'beef', 'potatoes', 'pilau', 'matoke', 'chapati']}"
            ]
          },
          "metadata": {},
          "execution_count": 25
        }
      ]
    },
    {
      "cell_type": "markdown",
      "source": [
        "**control structures,loops & functions**"
      ],
      "metadata": {
        "id": "MOGb1-z62Psw"
      }
    },
    {
      "cell_type": "code",
      "source": [
        "# using if statements to make decision based on a condition\n",
        "dish_price = 100\n",
        "if dish_price > 200 :\n",
        "  print('expensive')\n",
        "else :\n",
        "  print('affodable')"
      ],
      "metadata": {
        "id": "0wLhnixY3_g0",
        "colab": {
          "base_uri": "https://localhost:8080/"
        },
        "outputId": "7019181a-68c0-4c47-d274-2cdf961c8bc9"
      },
      "execution_count": null,
      "outputs": [
        {
          "output_type": "stream",
          "name": "stdout",
          "text": [
            "affodable\n"
          ]
        }
      ]
    },
    {
      "cell_type": "code",
      "source": [
        "# using for loop to iterate over list\n",
        "kenyan_dishes = ['ugali','beef','pilau','chapati','rice']\n",
        "for kenyan_dish in kenyan_dishes:\n",
        "  print('i will have',kenyan_dish,'with soup')"
      ],
      "metadata": {
        "id": "sz-n09dT7Gum",
        "colab": {
          "base_uri": "https://localhost:8080/"
        },
        "outputId": "98629678-ffc2-4c37-b8d8-86c4b2fafc43"
      },
      "execution_count": null,
      "outputs": [
        {
          "output_type": "stream",
          "name": "stdout",
          "text": [
            "i will have ugali with soup\n",
            "i will have beef with soup\n",
            "i will have pilau with soup\n",
            "i will have chapati with soup\n",
            "i will have rice with soup\n"
          ]
        }
      ]
    },
    {
      "cell_type": "code",
      "source": [
        "# using a while loop with a condition\n",
        "food_inventory = 0\n",
        "drinks_inventory = 4\n",
        "while food_inventory <= drinks_inventory :\n",
        "  print('food item',food_inventory,'has been added')\n",
        "  food_inventory +=1"
      ],
      "metadata": {
        "colab": {
          "base_uri": "https://localhost:8080/"
        },
        "id": "RBDUo3Qs-Fjs",
        "outputId": "894d57af-9676-4249-fff7-adcbabc20a21"
      },
      "execution_count": null,
      "outputs": [
        {
          "output_type": "stream",
          "name": "stdout",
          "text": [
            "food item 0 has been added\n",
            "food item 1 has been added\n",
            "food item 2 has been added\n",
            "food item 3 has been added\n",
            "food item 4 has been added\n"
          ]
        }
      ]
    },
    {
      "cell_type": "code",
      "source": [
        "#using a function to perform a relevant task\n",
        "def calculate_total(dish1,dish2):\n",
        "  return dish1+dish2\n",
        "print('total',calculate_total(150,180))"
      ],
      "metadata": {
        "colab": {
          "base_uri": "https://localhost:8080/"
        },
        "id": "pT-AZTaUJs4l",
        "outputId": "7d08a1e4-c807-425b-8bf8-60e9b3d9ef2d"
      },
      "execution_count": null,
      "outputs": [
        {
          "output_type": "stream",
          "name": "stdout",
          "text": [
            "total 330\n"
          ]
        }
      ]
    },
    {
      "cell_type": "markdown",
      "source": [
        "# NUMPY"
      ],
      "metadata": {
        "id": "1vfJJcMX01oP"
      }
    },
    {
      "cell_type": "code",
      "source": [
        "import numpy as np\n",
        "import matplotlib.pyplot as plt\n",
        "\n"
      ],
      "metadata": {
        "id": "BwNd2WHW0_ge"
      },
      "execution_count": 72,
      "outputs": []
    },
    {
      "cell_type": "code",
      "source": [
        "# calculate bill\n",
        "#customer's order\n",
        "menu = {'pilau':120,'beef_stew':180,'chapati':50,'plain_rice':60,'ugali':80,'sukuma_wiki':90}\n",
        "menu\n",
        "order = (pilau + beef_stew)\n",
        "bill = np.array([order])*3\n",
        "bill"
      ],
      "metadata": {
        "colab": {
          "base_uri": "https://localhost:8080/"
        },
        "id": "YG6kIe0T2Ghb",
        "outputId": "b8147dc7-7795-4f13-9e38-06e36b6af12e"
      },
      "execution_count": 17,
      "outputs": [
        {
          "output_type": "execute_result",
          "data": {
            "text/plain": [
              "array([960])"
            ]
          },
          "metadata": {},
          "execution_count": 17
        }
      ]
    },
    {
      "cell_type": "code",
      "source": [
        "# orders\n",
        "np.array([menu])"
      ],
      "metadata": {
        "colab": {
          "base_uri": "https://localhost:8080/"
        },
        "id": "N43tUC9w56F_",
        "outputId": "a65d3679-c516-4e85-e7d9-8e3ebf634c0a"
      },
      "execution_count": 20,
      "outputs": [
        {
          "output_type": "execute_result",
          "data": {
            "text/plain": [
              "array([{'pilau': 120, 'beef_stew': 180, 'chapati': 50, 'plain_rice': 60, 'ugali': 80, 'sukuma_wiki': 90}],\n",
              "      dtype=object)"
            ]
          },
          "metadata": {},
          "execution_count": 20
        }
      ]
    },
    {
      "cell_type": "code",
      "source": [
        "used = [[2,6,4],[5,4,2]]\n",
        "total_used = np.sum(used, axis=0)\n",
        "print('total beef:',total_used[0],'kg')\n",
        "print(f'total rice:{total_used[1],}kg')\n",
        "print(f'total vegetables:{total_used[2,]}kg')"
      ],
      "metadata": {
        "colab": {
          "base_uri": "https://localhost:8080/"
        },
        "id": "zF1jw-0KDeog",
        "outputId": "a4634d78-c214-4cc6-9ce2-549f1c631182"
      },
      "execution_count": 61,
      "outputs": [
        {
          "output_type": "stream",
          "name": "stdout",
          "text": [
            "total beef: 7 kg\n",
            "total rice:(np.int64(10),)kg\n",
            "total vegetables:6kg\n"
          ]
        }
      ]
    },
    {
      "cell_type": "code",
      "source": [
        "# daily usage of ingridients in(kg):beef,rice,vegetables\n",
        "usage = np.array([10,15,5,20])\n",
        "total_usage = []\n",
        "for i in usage:\n",
        "  total_usage.append(i*3)\n",
        "print(total_usage)\n",
        "np.mean(total_usage)\n",
        "np.median(total_usage)"
      ],
      "metadata": {
        "colab": {
          "base_uri": "https://localhost:8080/"
        },
        "id": "ayKKEwYh-PEb",
        "outputId": "cc1ca436-b17c-439e-97d2-061f0d8ff4c9"
      },
      "execution_count": 69,
      "outputs": [
        {
          "output_type": "stream",
          "name": "stdout",
          "text": [
            "[np.int64(30), np.int64(45), np.int64(15), np.int64(60)]\n"
          ]
        },
        {
          "output_type": "execute_result",
          "data": {
            "text/plain": [
              "np.float64(37.5)"
            ]
          },
          "metadata": {},
          "execution_count": 69
        }
      ]
    },
    {
      "cell_type": "code",
      "source": [
        "#food rating in a restaraunt\n",
        "food_rating = [2,5,4,7,6,8,9,10,5,6,6]\n",
        "food_rating"
      ],
      "metadata": {
        "colab": {
          "base_uri": "https://localhost:8080/"
        },
        "id": "2V6Lz0DcCeh6",
        "outputId": "0affe0d0-019f-4d9b-da0b-e615f478cb49"
      },
      "execution_count": 71,
      "outputs": [
        {
          "output_type": "execute_result",
          "data": {
            "text/plain": [
              "[2, 5, 4, 7, 6, 8, 9, 10, 5, 6, 6]"
            ]
          },
          "metadata": {},
          "execution_count": 71
        }
      ]
    },
    {
      "cell_type": "code",
      "source": [
        "#mean\n",
        "np.mean(food_rating)"
      ],
      "metadata": {
        "colab": {
          "base_uri": "https://localhost:8080/"
        },
        "id": "fV2l9FxcIfwg",
        "outputId": "63844253-1fce-4861-eb34-6091cc5aea99"
      },
      "execution_count": 73,
      "outputs": [
        {
          "output_type": "execute_result",
          "data": {
            "text/plain": [
              "np.float64(6.181818181818182)"
            ]
          },
          "metadata": {},
          "execution_count": 73
        }
      ]
    },
    {
      "cell_type": "code",
      "source": [
        "#median\n",
        "np.median(food_rating)"
      ],
      "metadata": {
        "colab": {
          "base_uri": "https://localhost:8080/"
        },
        "id": "uJ2RklXBI0bm",
        "outputId": "0305c0d4-d044-44e5-9258-cba925c77e98"
      },
      "execution_count": 74,
      "outputs": [
        {
          "output_type": "execute_result",
          "data": {
            "text/plain": [
              "np.float64(6.0)"
            ]
          },
          "metadata": {},
          "execution_count": 74
        }
      ]
    },
    {
      "cell_type": "code",
      "source": [
        "#histogram showing distribetion of food rating\n",
        "plt.hist(food_rating, color = 'red', edgecolor = 'purple')\n",
        "plt.ylabel('no.of.people')\n",
        "plt.xlabel('rating')\n",
        "plt.title('FOOD RATING')\n",
        "bins = 5"
      ],
      "metadata": {
        "colab": {
          "base_uri": "https://localhost:8080/",
          "height": 472
        },
        "id": "PPp5HbE8I6vh",
        "outputId": "19d2d1a2-91e5-45bd-c2bf-91bb2a4b7bfb"
      },
      "execution_count": 92,
      "outputs": [
        {
          "output_type": "display_data",
          "data": {
            "text/plain": [
              "<Figure size 640x480 with 1 Axes>"
            ],
            "image/png": "[encoded data removed]"
          },
          "metadata": {}
        }
      ]
    },
    {
      "cell_type": "code",
      "source": [
        "food_rating_sort= sorted(food_rating)\n",
        "food_rating_sort"
      ],
      "metadata": {
        "colab": {
          "base_uri": "https://localhost:8080/"
        },
        "id": "_yXA-Me9LuVK",
        "outputId": "4200d443-de7f-4f38-b392-c8bbf953118c"
      },
      "execution_count": 88,
      "outputs": [
        {
          "output_type": "execute_result",
          "data": {
            "text/plain": [
              "[2, 4, 5, 5, 6, 6, 6, 7, 8, 9, 10]"
            ]
          },
          "metadata": {},
          "execution_count": 88
        }
      ]
    },
    {
      "cell_type": "code",
      "source": [
        "#standard variation\n",
        "np.std(food_rating_sort)"
      ],
      "metadata": {
        "colab": {
          "base_uri": "https://localhost:8080/"
        },
        "id": "2OxvAPeZKrjQ",
        "outputId": "1cb76ff8-d565-4f8b-d729-f6e998c1b31b"
      },
      "execution_count": 89,
      "outputs": [
        {
          "output_type": "execute_result",
          "data": {
            "text/plain": [
              "np.float64(2.16661368869327)"
            ]
          },
          "metadata": {},
          "execution_count": 89
        }
      ]
    },
    {
      "cell_type": "code",
      "source": [
        "#variance\n",
        "np.var(food_rating_sort)"
      ],
      "metadata": {
        "colab": {
          "base_uri": "https://localhost:8080/"
        },
        "id": "CfO2cpZ0LTfv",
        "outputId": "60fda2da-a12d-4c8a-bd73-7e7bb2a8e568"
      },
      "execution_count": 90,
      "outputs": [
        {
          "output_type": "execute_result",
          "data": {
            "text/plain": [
              "np.float64(4.694214876033057)"
            ]
          },
          "metadata": {},
          "execution_count": 90
        }
      ]
    },
    {
      "cell_type": "code",
      "source": [
        "distance = len(food_rating_sort) -1\n",
        "distance"
      ],
      "metadata": {
        "colab": {
          "base_uri": "https://localhost:8080/"
        },
        "id": "TIHeh8NvOEjB",
        "outputId": "ada2f97c-3b1a-49d9-e0cb-4fa90c9c9fe8"
      },
      "execution_count": 97,
      "outputs": [
        {
          "output_type": "execute_result",
          "data": {
            "text/plain": [
              "10"
            ]
          },
          "metadata": {},
          "execution_count": 97
        }
      ]
    },
    {
      "cell_type": "code",
      "source": [
        "# iqr\n",
        "pos_25 = 0.25*distance #25th\n",
        "pos_75 = 0.75*distance #75th\n",
        "index_1 = int(pos_25)\n",
        "index_2 = int(pos_75)\n",
        "\n"
      ],
      "metadata": {
        "id": "nyYxE4rpOPw6"
      },
      "execution_count": 104,
      "outputs": []
    },
    {
      "cell_type": "code",
      "source": [
        "np.percentile(food_rating_sort,25)"
      ],
      "metadata": {
        "colab": {
          "base_uri": "https://localhost:8080/"
        },
        "id": "9F5682cOPztu",
        "outputId": "5a6dd961-e3cc-4389-9995-f218c6001864"
      },
      "execution_count": 109,
      "outputs": [
        {
          "output_type": "execute_result",
          "data": {
            "text/plain": [
              "np.float64(5.0)"
            ]
          },
          "metadata": {},
          "execution_count": 109
        }
      ]
    },
    {
      "cell_type": "code",
      "source": [
        "np.percentile(food_rating,75)"
      ],
      "metadata": {
        "colab": {
          "base_uri": "https://localhost:8080/"
        },
        "id": "AV9_LRbcQFj5",
        "outputId": "ea0c668b-7ccc-4a08-a7c9-2e47ce176d0d"
      },
      "execution_count": 108,
      "outputs": [
        {
          "output_type": "execute_result",
          "data": {
            "text/plain": [
              "np.float64(7.5)"
            ]
          },
          "metadata": {},
          "execution_count": 108
        }
      ]
    },
    {
      "cell_type": "code",
      "source": [
        "#IQR\n",
        "iqr=np.percentile(food_rating,75) - np.percentile(food_rating_sort,25)\n",
        "iqr"
      ],
      "metadata": {
        "colab": {
          "base_uri": "https://localhost:8080/"
        },
        "id": "WBwAkx3JQQuO",
        "outputId": "2993727f-2563-4954-de20-57c2e8236158"
      },
      "execution_count": 113,
      "outputs": [
        {
          "output_type": "execute_result",
          "data": {
            "text/plain": [
              "np.float64(2.5)"
            ]
          },
          "metadata": {},
          "execution_count": 113
        }
      ]
    },
    {
      "cell_type": "code",
      "source": [
        "plt.boxplot(food_rating_sort)\n",
        "plt.title('box plot showing food rating')"
      ],
      "metadata": {
        "colab": {
          "base_uri": "https://localhost:8080/",
          "height": 470
        },
        "id": "pYXDIey3McX6",
        "outputId": "41a260d8-5ce2-412e-d90d-3a58953d7440"
      },
      "execution_count": 95,
      "outputs": [
        {
          "output_type": "execute_result",
          "data": {
            "text/plain": [
              "Text(0.5, 1.0, 'box plot showing food rating')"
            ]
          },
          "metadata": {},
          "execution_count": 95
        },
        {
          "output_type": "display_data",
          "data": {
            "text/plain": [
              "<Figure size 640x480 with 1 Axes>"
            ],
            "image/png": "[encoded data removed]"
          },
          "metadata": {}
        }
      ]
    },
    {
      "cell_type": "code",
      "source": [],
      "metadata": {
        "id": "muvp9HQ5MwUF"
      },
      "execution_count": null,
      "outputs": []
    }
  ]
}